{
 "cells": [
  {
   "cell_type": "markdown",
   "metadata": {},
   "source": [
    "# Module 8 Lab 1 Exploring Dataset with Numpy\n"
   ]
  },
  {
   "cell_type": "markdown",
   "metadata": {},
   "source": [
    "### NumPy is great at storing and manipulating numerical data in arrays."
   ]
  },
  {
   "cell_type": "markdown",
   "metadata": {},
   "source": [
    "#### Movie Reviewer is a fictional movie review site where six good friends watch and review movie, Micky, Donald, Goofy, Daisy, Minnie and Pluto watch movies and give them ratings on a scale of 0 to 100."
   ]
  },
  {
   "cell_type": "markdown",
   "metadata": {},
   "source": [
    "#### Step1: Import Numpy as np"
   ]
  },
  {
   "cell_type": "code",
   "execution_count": 1,
   "metadata": {},
   "outputs": [],
   "source": [
    "import numpy as np"
   ]
  },
  {
   "cell_type": "markdown",
   "metadata": {},
   "source": [
    "#### Step 2: Create a  1-dimensional array for the first movie they reviewed. Store in NumPy array movie_ratings\n",
    "##### You can enter random numbers for each review between 0 - 100 \n",
    "##### Hint: You can use Excel or np.random.randint(0, 100, size=(6,10))"
   ]
  },
  {
   "cell_type": "code",
   "execution_count": 4,
   "metadata": {},
   "outputs": [
    {
     "name": "stdout",
     "output_type": "stream",
     "text": [
      "[[92 24 18 56  2 43 36 93 96 73]\n",
      " [ 1 96 96 92 17  5 80 10 70 58]\n",
      " [66 61  6 18  2  5  0 72  2 61]\n",
      " [76 29 93 47 19 44 46 67 67 78]\n",
      " [45  1 83 54 85 32 52 46 36 68]\n",
      " [68 32 76 69 45 39 93 21 52 84]]\n"
     ]
    },
    {
     "data": {
      "text/plain": [
       "array([92, 24, 18, 56,  2, 43, 36, 93, 96, 73])"
      ]
     },
     "execution_count": 4,
     "metadata": {},
     "output_type": "execute_result"
    }
   ],
   "source": [
    "a = np.random.randint(0, 100, size=(6,10))\n",
    "print(a)\n",
    "a[0,:]"
   ]
  },
  {
   "cell_type": "markdown",
   "metadata": {},
   "source": [
    "#### Step 3: The gang went to see 9 more movies. Create a  2-dimensional array where each row is their ratings for a specific movie.\n",
    "##### You can enter random numbers for each review between 0 - 100"
   ]
  },
  {
   "cell_type": "code",
   "execution_count": 16,
   "metadata": {},
   "outputs": [
    {
     "name": "stdout",
     "output_type": "stream",
     "text": [
      "[[64 69 38  2 80 65 29 85 31]\n",
      " [27 54 91 11 34 89 84 83 41]\n",
      " [19 80 79  9 37 18 59 23 74]\n",
      " [61 11 71 37 24 89 57 84 88]\n",
      " [24 66 47 48 72 49 16 10 12]\n",
      " [70 93 13 99 81 39 87 15 48]]\n",
      "[[92 24 18 56  2 43 36 93 96 73 64 69 38  2 80 65 29 85 31]\n",
      " [ 1 96 96 92 17  5 80 10 70 58 27 54 91 11 34 89 84 83 41]\n",
      " [66 61  6 18  2  5  0 72  2 61 19 80 79  9 37 18 59 23 74]\n",
      " [76 29 93 47 19 44 46 67 67 78 61 11 71 37 24 89 57 84 88]\n",
      " [45  1 83 54 85 32 52 46 36 68 24 66 47 48 72 49 16 10 12]\n",
      " [68 32 76 69 45 39 93 21 52 84 70 93 13 99 81 39 87 15 48]]\n"
     ]
    }
   ],
   "source": [
    "b = np.random.randint(0, 100, size=(6,9))\n",
    "print(b)\n",
    "c = np.hstack((a,b))\n",
    "print(c)"
   ]
  },
  {
   "cell_type": "markdown",
   "metadata": {},
   "source": [
    "#### Step 4: Some fans prefer to have the movies rated on a five star scale, so we can use NumPy to easily divide each element by 20."
   ]
  },
  {
   "cell_type": "code",
   "execution_count": 19,
   "metadata": {},
   "outputs": [
    {
     "name": "stdout",
     "output_type": "stream",
     "text": [
      "[[4.6  1.2  0.9  2.8  0.1  2.15 1.8  4.65 4.8  3.65 3.2  3.45 1.9  0.1\n",
      "  4.   3.25 1.45 4.25 1.55]\n",
      " [0.05 4.8  4.8  4.6  0.85 0.25 4.   0.5  3.5  2.9  1.35 2.7  4.55 0.55\n",
      "  1.7  4.45 4.2  4.15 2.05]\n",
      " [3.3  3.05 0.3  0.9  0.1  0.25 0.   3.6  0.1  3.05 0.95 4.   3.95 0.45\n",
      "  1.85 0.9  2.95 1.15 3.7 ]\n",
      " [3.8  1.45 4.65 2.35 0.95 2.2  2.3  3.35 3.35 3.9  3.05 0.55 3.55 1.85\n",
      "  1.2  4.45 2.85 4.2  4.4 ]\n",
      " [2.25 0.05 4.15 2.7  4.25 1.6  2.6  2.3  1.8  3.4  1.2  3.3  2.35 2.4\n",
      "  3.6  2.45 0.8  0.5  0.6 ]\n",
      " [3.4  1.6  3.8  3.45 2.25 1.95 4.65 1.05 2.6  4.2  3.5  4.65 0.65 4.95\n",
      "  4.05 1.95 4.35 0.75 2.4 ]]\n"
     ]
    }
   ],
   "source": [
    "star = c / 20\n",
    "print(star)"
   ]
  },
  {
   "cell_type": "markdown",
   "metadata": {},
   "source": [
    "#### Step 5: Now let's say the ratings are always in the same order (Micky, Donald, Goofy, Daisy, Minnie, Pluto) if we wanted to create an array that only had Micky's ratings, we could select that from our movie_ratings array."
   ]
  },
  {
   "cell_type": "code",
   "execution_count": 21,
   "metadata": {},
   "outputs": [
    {
     "name": "stdout",
     "output_type": "stream",
     "text": [
      "[4.6  1.2  0.9  2.8  0.1  2.15 1.8  4.65 4.8  3.65 3.2  3.45 1.9  0.1\n",
      " 4.   3.25 1.45 4.25 1.55]\n"
     ]
    }
   ],
   "source": [
    "micky = star[0,:]\n",
    "print(micky)"
   ]
  },
  {
   "cell_type": "markdown",
   "metadata": {},
   "source": [
    "#### Step 6: Now, say we find that we have very similar taste to Pluto, so we only want to see movies that he gives a good rating to, we can use logic to select those movies."
   ]
  },
  {
   "cell_type": "code",
   "execution_count": 22,
   "metadata": {},
   "outputs": [
    {
     "name": "stdout",
     "output_type": "stream",
     "text": [
      "[3.4  1.6  3.8  3.45 2.25 1.95 4.65 1.05 2.6  4.2  3.5  4.65 0.65 4.95\n",
      " 4.05 1.95 4.35 0.75 2.4 ]\n"
     ]
    },
    {
     "data": {
      "text/plain": [
       "array([False, False, False, False, False, False,  True, False, False,\n",
       "        True, False,  True, False,  True,  True, False,  True, False,\n",
       "       False])"
      ]
     },
     "execution_count": 22,
     "metadata": {},
     "output_type": "execute_result"
    }
   ],
   "source": [
    "pluto = star[5,:]\n",
    "print(pluto)\n",
    "pluto > 4"
   ]
  },
  {
   "cell_type": "markdown",
   "metadata": {},
   "source": [
    "#### Step 7: Calculate the average rating for the 7th movie reviewed.\n",
    "##### Hint: Arrays start at 0 & use .mean of axis 0"
   ]
  },
  {
   "cell_type": "code",
   "execution_count": 25,
   "metadata": {},
   "outputs": [
    {
     "name": "stdout",
     "output_type": "stream",
     "text": [
      "[2.9        2.025      3.1        2.8        1.41666667 1.4\n",
      " 2.55833333 2.575      2.69166667 3.51666667 2.20833333 3.10833333\n",
      " 2.825      1.71666667 2.73333333 2.90833333 2.76666667 2.5\n",
      " 2.45      ]\n"
     ]
    },
    {
     "data": {
      "text/plain": [
       "2.558333333333333"
      ]
     },
     "execution_count": 25,
     "metadata": {},
     "output_type": "execute_result"
    }
   ],
   "source": [
    "calculatedMean = np.mean(star, axis = 0)\n",
    "print(calculatedMean)\n",
    "calculatedMean[6]\n"
   ]
  },
  {
   "cell_type": "markdown",
   "metadata": {},
   "source": [
    "#### Submit screenshots in Word or PDF  and .ipynb file Juypter Notebook"
   ]
  }
 ],
 "metadata": {
  "instance_type": "ml.t3.medium",
  "kernelspec": {
   "display_name": "conda_python3",
   "language": "python",
   "name": "conda_python3"
  },
  "language_info": {
   "codemirror_mode": {
    "name": "ipython",
    "version": 3
   },
   "file_extension": ".py",
   "mimetype": "text/x-python",
   "name": "python",
   "nbconvert_exporter": "python",
   "pygments_lexer": "ipython3",
   "version": "3.6.10"
  }
 },
 "nbformat": 4,
 "nbformat_minor": 4
}
