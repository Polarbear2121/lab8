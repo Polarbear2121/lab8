{
 "cells": [
  {
   "cell_type": "markdown",
   "metadata": {},
   "source": [
    "# Module 8 Lab 2 Getting and Knowing your Dataset with Pandas\n"
   ]
  },
  {
   "cell_type": "markdown",
   "metadata": {},
   "source": [
    "### Step 1. Import the necessary libraries Pandas as pd and Numpy as np"
   ]
  },
  {
   "cell_type": "code",
   "execution_count": 12,
   "metadata": {},
   "outputs": [],
   "source": [
    "import pandas as pd\n",
    "import numpy as np\n"
   ]
  },
  {
   "cell_type": "markdown",
   "metadata": {},
   "source": [
    "### Step 2. Import the dataset from this [address](https://cs79f.s3-us-west-1.amazonaws.com/module8-datasets/chipotle.tsv). "
   ]
  },
  {
   "cell_type": "code",
   "execution_count": 20,
   "metadata": {},
   "outputs": [],
   "source": [
    "url=  'https://cs79f.s3-us-west-1.amazonaws.com/module8-datasets/chipotle.tsv'"
   ]
  },
  {
   "cell_type": "markdown",
   "metadata": {},
   "source": [
    "### Step 3. Read in CSV dataset to a variable called chipo."
   ]
  },
  {
   "cell_type": "code",
   "execution_count": 55,
   "metadata": {
    "collapsed": false,
    "jupyter": {
     "outputs_hidden": false
    }
   },
   "outputs": [],
   "source": [
    "chipo = pd.read_csv(\"chipotle.tsv\", sep='\\t')"
   ]
  },
  {
   "cell_type": "markdown",
   "metadata": {},
   "source": [
    "### Step 4. See the first 10 entries of the dataset"
   ]
  },
  {
   "cell_type": "code",
   "execution_count": 22,
   "metadata": {
    "collapsed": false,
    "jupyter": {
     "outputs_hidden": false
    }
   },
   "outputs": [
    {
     "name": "stdout",
     "output_type": "stream",
     "text": [
      "   order_id  quantity                              item_name  \\\n",
      "0         1         1           Chips and Fresh Tomato Salsa   \n",
      "1         1         1                                   Izze   \n",
      "2         1         1                       Nantucket Nectar   \n",
      "3         1         1  Chips and Tomatillo-Green Chili Salsa   \n",
      "4         2         2                           Chicken Bowl   \n",
      "5         3         1                           Chicken Bowl   \n",
      "6         3         1                          Side of Chips   \n",
      "7         4         1                          Steak Burrito   \n",
      "8         4         1                       Steak Soft Tacos   \n",
      "9         5         1                          Steak Burrito   \n",
      "\n",
      "                                  choice_description item_price  \n",
      "0                                                NaN     $2.39   \n",
      "1                                       [Clementine]     $3.39   \n",
      "2                                            [Apple]     $3.39   \n",
      "3                                                NaN     $2.39   \n",
      "4  [Tomatillo-Red Chili Salsa (Hot), [Black Beans...    $16.98   \n",
      "5  [Fresh Tomato Salsa (Mild), [Rice, Cheese, Sou...    $10.98   \n",
      "6                                                NaN     $1.69   \n",
      "7  [Tomatillo Red Chili Salsa, [Fajita Vegetables...    $11.75   \n",
      "8  [Tomatillo Green Chili Salsa, [Pinto Beans, Ch...     $9.25   \n",
      "9  [Fresh Tomato Salsa, [Rice, Black Beans, Pinto...     $9.25   \n"
     ]
    }
   ],
   "source": [
    "print (chipo.head(10))"
   ]
  },
  {
   "cell_type": "markdown",
   "metadata": {},
   "source": [
    "### Step 5. What is the number of observations/rows in the dataset?"
   ]
  },
  {
   "cell_type": "code",
   "execution_count": 24,
   "metadata": {
    "collapsed": false,
    "jupyter": {
     "outputs_hidden": false
    }
   },
   "outputs": [
    {
     "data": {
      "text/plain": [
       "4622"
      ]
     },
     "execution_count": 24,
     "metadata": {},
     "output_type": "execute_result"
    }
   ],
   "source": [
    "len(chipo.index)"
   ]
  },
  {
   "cell_type": "markdown",
   "metadata": {},
   "source": [
    "### Step 6. What is the number of columns in this dataset?"
   ]
  },
  {
   "cell_type": "code",
   "execution_count": 25,
   "metadata": {
    "collapsed": false,
    "jupyter": {
     "outputs_hidden": false
    }
   },
   "outputs": [
    {
     "data": {
      "text/plain": [
       "5"
      ]
     },
     "execution_count": 25,
     "metadata": {},
     "output_type": "execute_result"
    }
   ],
   "source": [
    "len(chipo.columns)\n"
   ]
  },
  {
   "cell_type": "markdown",
   "metadata": {},
   "source": [
    "### Step 7. Print the name of all the columns/features."
   ]
  },
  {
   "cell_type": "code",
   "execution_count": 26,
   "metadata": {
    "collapsed": false,
    "jupyter": {
     "outputs_hidden": false
    }
   },
   "outputs": [
    {
     "name": "stdout",
     "output_type": "stream",
     "text": [
      "Index(['order_id', 'quantity', 'item_name', 'choice_description',\n",
      "       'item_price'],\n",
      "      dtype='object')\n"
     ]
    }
   ],
   "source": [
    "print (chipo.columns)"
   ]
  },
  {
   "cell_type": "markdown",
   "metadata": {},
   "source": [
    "### Step 8. How is the dataset indexed?"
   ]
  },
  {
   "cell_type": "code",
   "execution_count": null,
   "metadata": {
    "collapsed": false,
    "jupyter": {
     "outputs_hidden": false
    }
   },
   "outputs": [],
   "source": [
    "# It was indexed by order_id"
   ]
  },
  {
   "cell_type": "markdown",
   "metadata": {},
   "source": [
    "### Step 9. Which was the most-ordered item? "
   ]
  },
  {
   "cell_type": "code",
   "execution_count": 29,
   "metadata": {
    "collapsed": false,
    "jupyter": {
     "outputs_hidden": false
    }
   },
   "outputs": [
    {
     "name": "stdout",
     "output_type": "stream",
     "text": [
      "                                       count\n",
      "item_name                                   \n",
      "Chicken Bowl                             726\n",
      "Chicken Burrito                          553\n",
      "Chips and Guacamole                      479\n",
      "Steak Burrito                            368\n",
      "Canned Soft Drink                        301\n",
      "Steak Bowl                               211\n",
      "Chips                                    211\n",
      "Bottled Water                            162\n",
      "Chicken Soft Tacos                       115\n",
      "Chicken Salad Bowl                       110\n",
      "Chips and Fresh Tomato Salsa             110\n",
      "Canned Soda                              104\n",
      "Side of Chips                            101\n",
      "Veggie Burrito                            95\n",
      "Barbacoa Burrito                          91\n",
      "Veggie Bowl                               85\n",
      "Carnitas Bowl                             68\n",
      "Barbacoa Bowl                             66\n",
      "Carnitas Burrito                          59\n",
      "Steak Soft Tacos                          55\n",
      "6 Pack Soft Drink                         54\n",
      "Chips and Tomatillo Red Chili Salsa       48\n",
      "Chicken Crispy Tacos                      47\n",
      "Chips and Tomatillo Green Chili Salsa     43\n",
      "Carnitas Soft Tacos                       40\n",
      "Steak Crispy Tacos                        35\n",
      "Chips and Tomatillo-Green Chili Salsa     31\n",
      "Steak Salad Bowl                          29\n",
      "Nantucket Nectar                          27\n",
      "Barbacoa Soft Tacos                       25\n",
      "Chips and Roasted Chili Corn Salsa        22\n",
      "Chips and Tomatillo-Red Chili Salsa       20\n",
      "Izze                                      20\n",
      "Veggie Salad Bowl                         18\n",
      "Chips and Roasted Chili-Corn Salsa        18\n",
      "Barbacoa Crispy Tacos                     11\n",
      "Barbacoa Salad Bowl                       10\n",
      "Chicken Salad                              9\n",
      "Carnitas Crispy Tacos                      7\n",
      "Veggie Soft Tacos                          7\n",
      "Burrito                                    6\n",
      "Veggie Salad                               6\n",
      "Carnitas Salad Bowl                        6\n",
      "Steak Salad                                4\n",
      "Bowl                                       2\n",
      "Salad                                      2\n",
      "Crispy Tacos                               2\n",
      "Chips and Mild Fresh Tomato Salsa          1\n",
      "Carnitas Salad                             1\n",
      "Veggie Crispy Tacos                        1\n"
     ]
    }
   ],
   "source": [
    "print(chipo.groupby(['item_name'])['item_name'].agg(['count']).sort_values(by='count', ascending=False))\n",
    "#answer Chicken Bowl"
   ]
  },
  {
   "cell_type": "markdown",
   "metadata": {},
   "source": [
    "### Step 10. For the most-ordered item, how many items were ordered?"
   ]
  },
  {
   "cell_type": "code",
   "execution_count": 45,
   "metadata": {
    "collapsed": false,
    "jupyter": {
     "outputs_hidden": false
    }
   },
   "outputs": [
    {
     "data": {
      "text/plain": [
       "761"
      ]
     },
     "execution_count": 45,
     "metadata": {},
     "output_type": "execute_result"
    }
   ],
   "source": [
    "# From above 726\n",
    " total = chipo.loc[chipo['item_name'] == 'Chicken Bowl']\n",
    " total.iloc[:,1].sum(axis=0)\n",
    " \n"
   ]
  },
  {
   "cell_type": "markdown",
   "metadata": {},
   "source": [
    "### Step 11. How many items were orderd in total?"
   ]
  },
  {
   "cell_type": "code",
   "execution_count": 92,
   "metadata": {
    "collapsed": false,
    "jupyter": {
     "outputs_hidden": false
    }
   },
   "outputs": [
    {
     "data": {
      "text/plain": [
       "4622"
      ]
     },
     "execution_count": 92,
     "metadata": {},
     "output_type": "execute_result"
    }
   ],
   "source": [
    "chipo.shape[0] \n"
   ]
  },
  {
   "cell_type": "markdown",
   "metadata": {},
   "source": [
    "### Step 12. How much was the revenue for the period in the dataset?"
   ]
  },
  {
   "cell_type": "code",
   "execution_count": 74,
   "metadata": {
    "collapsed": false,
    "jupyter": {
     "outputs_hidden": false
    }
   },
   "outputs": [
    {
     "name": "stdout",
     "output_type": "stream",
     "text": [
      "39237.02\n"
     ]
    }
   ],
   "source": [
    "chipo['Total'] = chipo['quantity'] * chipo['item_price'].str.strip('$').astype(float)\n",
    "totalRevenue  = chipo['Total'].sum()\n",
    "print(totalRevenue)\n",
    "\n"
   ]
  },
  {
   "cell_type": "markdown",
   "metadata": {},
   "source": [
    "### Step 13. How many orders were made in the period?"
   ]
  },
  {
   "cell_type": "code",
   "execution_count": 75,
   "metadata": {
    "collapsed": false,
    "jupyter": {
     "outputs_hidden": false
    }
   },
   "outputs": [
    {
     "name": "stdout",
     "output_type": "stream",
     "text": [
      "4972\n"
     ]
    }
   ],
   "source": [
    "totalOrders = chipo['quantity'].sum(axis=0)\n",
    "print (totalOrders)\n"
   ]
  },
  {
   "cell_type": "markdown",
   "metadata": {},
   "source": [
    "### Step 14. What is the average revenue amount per order?"
   ]
  },
  {
   "cell_type": "code",
   "execution_count": 78,
   "metadata": {
    "collapsed": false,
    "jupyter": {
     "outputs_hidden": false
    }
   },
   "outputs": [
    {
     "name": "stdout",
     "output_type": "stream",
     "text": [
      "7.8915969428801285\n"
     ]
    }
   ],
   "source": [
    "averageRevenue =    totalRevenue / totalOrders\n",
    "print (averageRevenue)"
   ]
  },
  {
   "cell_type": "markdown",
   "metadata": {},
   "source": [
    "### Step 15. How many different items are sold?"
   ]
  },
  {
   "cell_type": "code",
   "execution_count": 93,
   "metadata": {
    "collapsed": false,
    "jupyter": {
     "outputs_hidden": false
    }
   },
   "outputs": [
    {
     "data": {
      "text/plain": [
       "50"
      ]
     },
     "execution_count": 93,
     "metadata": {},
     "output_type": "execute_result"
    }
   ],
   "source": [
    "chipo['item_name'].nunique()"
   ]
  },
  {
   "cell_type": "markdown",
   "metadata": {},
   "source": [
    "### Netflix"
   ]
  },
  {
   "cell_type": "code",
   "execution_count": 94,
   "metadata": {},
   "outputs": [],
   "source": [
    "import pandas as pd"
   ]
  },
  {
   "cell_type": "code",
   "execution_count": 108,
   "metadata": {},
   "outputs": [
    {
     "name": "stdout",
     "output_type": "stream",
     "text": [
      "    show_id   type                                    title  \\\n",
      "0  81145628  Movie  Norm of the North: King Sized Adventure   \n",
      "\n",
      "                   director  \\\n",
      "0  Richard Finn, Tim Maltby   \n",
      "\n",
      "                                                cast  \\\n",
      "0  Alan Marriott, Andrew Toth, Brian Dobson, Cole...   \n",
      "\n",
      "                                    country         date_added  release_year  \\\n",
      "0  United States, India, South Korea, China  September 9, 2019          2019   \n",
      "\n",
      "  rating duration                           listed_in  \\\n",
      "0  TV-PG   90 min  Children & Family Movies, Comedies   \n",
      "\n",
      "                                         description  \n",
      "0  Before planning an awesome wedding for his gra...  \n"
     ]
    }
   ],
   "source": [
    "netflix = pd.read_csv(\"netflix_titles.csv\")\n",
    "print (netflix.head(1))"
   ]
  },
  {
   "cell_type": "code",
   "execution_count": 118,
   "metadata": {},
   "outputs": [
    {
     "data": {
      "text/plain": [
       "701"
      ]
     },
     "execution_count": 118,
     "metadata": {},
     "output_type": "execute_result"
    }
   ],
   "source": [
    "#How many TV-PG rating?\n",
    "a['Total'] = netflix.loc[(netflix[\"rating\"] == \"TV-PG\")]\n",
    "a['Total'].shape[0]"
   ]
  },
  {
   "cell_type": "code",
   "execution_count": 121,
   "metadata": {},
   "outputs": [
    {
     "name": "stdout",
     "output_type": "stream",
     "text": [
      "0               Norm of the North: King Sized Adventure\n",
      "1                            Jandino: Whatever it Takes\n",
      "2                                    Transformers Prime\n",
      "3                      Transformers: Robots in Disguise\n",
      "4                                          #realityhigh\n",
      "5                                               Apaches\n",
      "6                                              Automata\n",
      "7                    Fabrizio Copano: Solo pienso en mi\n",
      "8                                          Fire Chasers\n",
      "9                                           Good People\n",
      "10                          Joaquín Reyes: Una y no más\n",
      "11                              Kidnapping Mr. Heineken\n",
      "12                             Krish Trish and Baltiboy\n",
      "13             Krish Trish and Baltiboy: Battle of Wits\n",
      "14       Krish Trish and Baltiboy: Best Friends Forever\n",
      "15            Krish Trish and Baltiboy: Comics of India\n",
      "16    Krish Trish and Baltiboy: Oversmartness Never ...\n",
      "17                    Krish Trish and Baltiboy: Part II\n",
      "18         Krish Trish and Baltiboy: The Greatest Trick\n",
      "19                                                 Love\n",
      "Name: title, dtype: object\n"
     ]
    }
   ],
   "source": [
    "#List the first 20 movies\n",
    "print (netflix['title'].head(20))"
   ]
  },
  {
   "cell_type": "code",
   "execution_count": 122,
   "metadata": {},
   "outputs": [
    {
     "data": {
      "text/plain": [
       "1422    Lilly Wachowski, Lana Wachowski\n",
       "Name: director, dtype: object"
      ]
     },
     "execution_count": 122,
     "metadata": {},
     "output_type": "execute_result"
    }
   ],
   "source": [
    "#Who directed \"The Matrix\"?\n",
    "\n",
    "netflix.loc[(netflix[\"title\"] == \"The Matrix\", \"director\")]"
   ]
  },
  {
   "cell_type": "code",
   "execution_count": 123,
   "metadata": {},
   "outputs": [
    {
     "data": {
      "text/html": [
       "<div>\n",
       "<style scoped>\n",
       "    .dataframe tbody tr th:only-of-type {\n",
       "        vertical-align: middle;\n",
       "    }\n",
       "\n",
       "    .dataframe tbody tr th {\n",
       "        vertical-align: top;\n",
       "    }\n",
       "\n",
       "    .dataframe thead th {\n",
       "        text-align: right;\n",
       "    }\n",
       "</style>\n",
       "<table border=\"1\" class=\"dataframe\">\n",
       "  <thead>\n",
       "    <tr style=\"text-align: right;\">\n",
       "      <th></th>\n",
       "      <th>show_id</th>\n",
       "      <th>type</th>\n",
       "      <th>title</th>\n",
       "      <th>director</th>\n",
       "      <th>cast</th>\n",
       "      <th>country</th>\n",
       "      <th>date_added</th>\n",
       "      <th>release_year</th>\n",
       "      <th>rating</th>\n",
       "      <th>duration</th>\n",
       "      <th>listed_in</th>\n",
       "      <th>description</th>\n",
       "    </tr>\n",
       "  </thead>\n",
       "  <tbody>\n",
       "    <tr>\n",
       "      <th>35</th>\n",
       "      <td>81154455</td>\n",
       "      <td>Movie</td>\n",
       "      <td>Article 15</td>\n",
       "      <td>Anubhav Sinha</td>\n",
       "      <td>Ayushmann Khurrana, Nassar, Manoj Pahwa, Kumud...</td>\n",
       "      <td>India</td>\n",
       "      <td>September 6, 2019</td>\n",
       "      <td>2019</td>\n",
       "      <td>TV-MA</td>\n",
       "      <td>125 min</td>\n",
       "      <td>Dramas, International Movies, Thrillers</td>\n",
       "      <td>The grim realities of caste discrimination com...</td>\n",
       "    </tr>\n",
       "    <tr>\n",
       "      <th>37</th>\n",
       "      <td>81052275</td>\n",
       "      <td>Movie</td>\n",
       "      <td>Ee Nagaraniki Emaindi</td>\n",
       "      <td>Tharun Bhascker</td>\n",
       "      <td>Vishwaksen Naidu, Sushanth Reddy, Abhinav Goma...</td>\n",
       "      <td>India</td>\n",
       "      <td>September 6, 2019</td>\n",
       "      <td>2018</td>\n",
       "      <td>TV-14</td>\n",
       "      <td>133 min</td>\n",
       "      <td>Comedies, International Movies</td>\n",
       "      <td>In Goa and in desperate need of cash, four chi...</td>\n",
       "    </tr>\n",
       "    <tr>\n",
       "      <th>41</th>\n",
       "      <td>70303496</td>\n",
       "      <td>Movie</td>\n",
       "      <td>PK</td>\n",
       "      <td>Rajkumar Hirani</td>\n",
       "      <td>Aamir Khan, Anuskha Sharma, Sanjay Dutt, Saura...</td>\n",
       "      <td>India</td>\n",
       "      <td>September 6, 2018</td>\n",
       "      <td>2014</td>\n",
       "      <td>TV-14</td>\n",
       "      <td>146 min</td>\n",
       "      <td>Comedies, Dramas, International Movies</td>\n",
       "      <td>Aamir Khan teams with director Rajkumar Hirani...</td>\n",
       "    </tr>\n",
       "    <tr>\n",
       "      <th>58</th>\n",
       "      <td>81155784</td>\n",
       "      <td>Movie</td>\n",
       "      <td>Watchman</td>\n",
       "      <td>A. L. Vijay</td>\n",
       "      <td>G.V. Prakash Kumar, Samyuktha Hegde, Suman, Ra...</td>\n",
       "      <td>India</td>\n",
       "      <td>September 4, 2019</td>\n",
       "      <td>2019</td>\n",
       "      <td>TV-14</td>\n",
       "      <td>93 min</td>\n",
       "      <td>Comedies, Dramas, International Movies</td>\n",
       "      <td>Rushing to pay off a loan shark, a young man b...</td>\n",
       "    </tr>\n",
       "    <tr>\n",
       "      <th>99</th>\n",
       "      <td>80225885</td>\n",
       "      <td>TV Show</td>\n",
       "      <td>Bard of Blood</td>\n",
       "      <td>NaN</td>\n",
       "      <td>Emraan Hashmi, Viineet Kumar, Sobhita Dhulipal...</td>\n",
       "      <td>India</td>\n",
       "      <td>September 27, 2019</td>\n",
       "      <td>2019</td>\n",
       "      <td>TV-MA</td>\n",
       "      <td>1 Season</td>\n",
       "      <td>International TV Shows, TV Action &amp; Adventure,...</td>\n",
       "      <td>Years after a disastrous job in Balochistan, a...</td>\n",
       "    </tr>\n",
       "    <tr>\n",
       "      <th>...</th>\n",
       "      <td>...</td>\n",
       "      <td>...</td>\n",
       "      <td>...</td>\n",
       "      <td>...</td>\n",
       "      <td>...</td>\n",
       "      <td>...</td>\n",
       "      <td>...</td>\n",
       "      <td>...</td>\n",
       "      <td>...</td>\n",
       "      <td>...</td>\n",
       "      <td>...</td>\n",
       "      <td>...</td>\n",
       "    </tr>\n",
       "    <tr>\n",
       "      <th>5573</th>\n",
       "      <td>80171439</td>\n",
       "      <td>Movie</td>\n",
       "      <td>The Human Factor: The Untold Story of the Bomb...</td>\n",
       "      <td>Rudradeep Bhattacharjee</td>\n",
       "      <td>NaN</td>\n",
       "      <td>India</td>\n",
       "      <td>April 1, 2017</td>\n",
       "      <td>2013</td>\n",
       "      <td>TV-PG</td>\n",
       "      <td>53 min</td>\n",
       "      <td>Documentaries, International Movies, Music &amp; M...</td>\n",
       "      <td>A family of Parsi musicians collectively works...</td>\n",
       "    </tr>\n",
       "    <tr>\n",
       "      <th>5708</th>\n",
       "      <td>81011159</td>\n",
       "      <td>TV Show</td>\n",
       "      <td>Little Things</td>\n",
       "      <td>NaN</td>\n",
       "      <td>Dhruv Sehgal, Mithila Palkar</td>\n",
       "      <td>India</td>\n",
       "      <td>November 9, 2019</td>\n",
       "      <td>2019</td>\n",
       "      <td>TV-MA</td>\n",
       "      <td>3 Seasons</td>\n",
       "      <td>International TV Shows, Romantic TV Shows, TV ...</td>\n",
       "      <td>A cohabiting couple in their 20s navigate the ...</td>\n",
       "    </tr>\n",
       "    <tr>\n",
       "      <th>5839</th>\n",
       "      <td>80178836</td>\n",
       "      <td>TV Show</td>\n",
       "      <td>The House That Made Me</td>\n",
       "      <td>NaN</td>\n",
       "      <td>Vinay Pathak</td>\n",
       "      <td>India</td>\n",
       "      <td>March 31, 2017</td>\n",
       "      <td>2015</td>\n",
       "      <td>TV-PG</td>\n",
       "      <td>3 Seasons</td>\n",
       "      <td>International TV Shows, Reality TV</td>\n",
       "      <td>With host Vinay Pathak, Indian celebrities ret...</td>\n",
       "    </tr>\n",
       "    <tr>\n",
       "      <th>5867</th>\n",
       "      <td>80207879</td>\n",
       "      <td>TV Show</td>\n",
       "      <td>Sab Jholmaal Hai</td>\n",
       "      <td>Vijay Roche</td>\n",
       "      <td>NaN</td>\n",
       "      <td>India</td>\n",
       "      <td>March 1, 2019</td>\n",
       "      <td>2017</td>\n",
       "      <td>TV-G</td>\n",
       "      <td>4 Seasons</td>\n",
       "      <td>Kids' TV, TV Comedies</td>\n",
       "      <td>In this madcap comedy, two mischievous cats, a...</td>\n",
       "    </tr>\n",
       "    <tr>\n",
       "      <th>5923</th>\n",
       "      <td>80122239</td>\n",
       "      <td>TV Show</td>\n",
       "      <td>Pyaar Tune Kya Kiya</td>\n",
       "      <td>NaN</td>\n",
       "      <td>Meiyang Chang, Surbhi Jyoti</td>\n",
       "      <td>India</td>\n",
       "      <td>June 1, 2017</td>\n",
       "      <td>2014</td>\n",
       "      <td>TV-14</td>\n",
       "      <td>3 Seasons</td>\n",
       "      <td>International TV Shows, Romantic TV Shows, TV ...</td>\n",
       "      <td>From teen lovers defying social and religious ...</td>\n",
       "    </tr>\n",
       "  </tbody>\n",
       "</table>\n",
       "<p>777 rows × 12 columns</p>\n",
       "</div>"
      ],
      "text/plain": [
       "       show_id     type                                              title  \\\n",
       "35    81154455    Movie                                         Article 15   \n",
       "37    81052275    Movie                              Ee Nagaraniki Emaindi   \n",
       "41    70303496    Movie                                                 PK   \n",
       "58    81155784    Movie                                           Watchman   \n",
       "99    80225885  TV Show                                      Bard of Blood   \n",
       "...        ...      ...                                                ...   \n",
       "5573  80171439    Movie  The Human Factor: The Untold Story of the Bomb...   \n",
       "5708  81011159  TV Show                                      Little Things   \n",
       "5839  80178836  TV Show                             The House That Made Me   \n",
       "5867  80207879  TV Show                                   Sab Jholmaal Hai   \n",
       "5923  80122239  TV Show                                Pyaar Tune Kya Kiya   \n",
       "\n",
       "                     director  \\\n",
       "35              Anubhav Sinha   \n",
       "37            Tharun Bhascker   \n",
       "41            Rajkumar Hirani   \n",
       "58                A. L. Vijay   \n",
       "99                        NaN   \n",
       "...                       ...   \n",
       "5573  Rudradeep Bhattacharjee   \n",
       "5708                      NaN   \n",
       "5839                      NaN   \n",
       "5867              Vijay Roche   \n",
       "5923                      NaN   \n",
       "\n",
       "                                                   cast country  \\\n",
       "35    Ayushmann Khurrana, Nassar, Manoj Pahwa, Kumud...   India   \n",
       "37    Vishwaksen Naidu, Sushanth Reddy, Abhinav Goma...   India   \n",
       "41    Aamir Khan, Anuskha Sharma, Sanjay Dutt, Saura...   India   \n",
       "58    G.V. Prakash Kumar, Samyuktha Hegde, Suman, Ra...   India   \n",
       "99    Emraan Hashmi, Viineet Kumar, Sobhita Dhulipal...   India   \n",
       "...                                                 ...     ...   \n",
       "5573                                                NaN   India   \n",
       "5708                       Dhruv Sehgal, Mithila Palkar   India   \n",
       "5839                                       Vinay Pathak   India   \n",
       "5867                                                NaN   India   \n",
       "5923                        Meiyang Chang, Surbhi Jyoti   India   \n",
       "\n",
       "              date_added  release_year rating   duration  \\\n",
       "35     September 6, 2019          2019  TV-MA    125 min   \n",
       "37     September 6, 2019          2018  TV-14    133 min   \n",
       "41     September 6, 2018          2014  TV-14    146 min   \n",
       "58     September 4, 2019          2019  TV-14     93 min   \n",
       "99    September 27, 2019          2019  TV-MA   1 Season   \n",
       "...                  ...           ...    ...        ...   \n",
       "5573       April 1, 2017          2013  TV-PG     53 min   \n",
       "5708    November 9, 2019          2019  TV-MA  3 Seasons   \n",
       "5839      March 31, 2017          2015  TV-PG  3 Seasons   \n",
       "5867       March 1, 2019          2017   TV-G  4 Seasons   \n",
       "5923        June 1, 2017          2014  TV-14  3 Seasons   \n",
       "\n",
       "                                              listed_in  \\\n",
       "35              Dramas, International Movies, Thrillers   \n",
       "37                       Comedies, International Movies   \n",
       "41               Comedies, Dramas, International Movies   \n",
       "58               Comedies, Dramas, International Movies   \n",
       "99    International TV Shows, TV Action & Adventure,...   \n",
       "...                                                 ...   \n",
       "5573  Documentaries, International Movies, Music & M...   \n",
       "5708  International TV Shows, Romantic TV Shows, TV ...   \n",
       "5839                 International TV Shows, Reality TV   \n",
       "5867                              Kids' TV, TV Comedies   \n",
       "5923  International TV Shows, Romantic TV Shows, TV ...   \n",
       "\n",
       "                                            description  \n",
       "35    The grim realities of caste discrimination com...  \n",
       "37    In Goa and in desperate need of cash, four chi...  \n",
       "41    Aamir Khan teams with director Rajkumar Hirani...  \n",
       "58    Rushing to pay off a loan shark, a young man b...  \n",
       "99    Years after a disastrous job in Balochistan, a...  \n",
       "...                                                 ...  \n",
       "5573  A family of Parsi musicians collectively works...  \n",
       "5708  A cohabiting couple in their 20s navigate the ...  \n",
       "5839  With host Vinay Pathak, Indian celebrities ret...  \n",
       "5867  In this madcap comedy, two mischievous cats, a...  \n",
       "5923  From teen lovers defying social and religious ...  \n",
       "\n",
       "[777 rows x 12 columns]"
      ]
     },
     "execution_count": 123,
     "metadata": {},
     "output_type": "execute_result"
    }
   ],
   "source": [
    "#Find all the Movies made in India\n",
    "netflix.loc[(netflix[\"country\"] == \"India\")]"
   ]
  },
  {
   "cell_type": "code",
   "execution_count": null,
   "metadata": {},
   "outputs": [],
   "source": []
  }
 ],
 "metadata": {
  "anaconda-cloud": {},
  "instance_type": "ml.t3.medium",
  "kernelspec": {
   "display_name": "conda_python3",
   "language": "python",
   "name": "conda_python3"
  },
  "language_info": {
   "codemirror_mode": {
    "name": "ipython",
    "version": 3
   },
   "file_extension": ".py",
   "mimetype": "text/x-python",
   "name": "python",
   "nbconvert_exporter": "python",
   "pygments_lexer": "ipython3",
   "version": "3.6.10"
  }
 },
 "nbformat": 4,
 "nbformat_minor": 4
}
